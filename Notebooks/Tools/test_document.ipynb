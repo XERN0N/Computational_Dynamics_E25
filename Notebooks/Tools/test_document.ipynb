{
 "cells": [
  {
   "cell_type": "code",
   "execution_count": 1,
   "id": "0c94561d",
   "metadata": {},
   "outputs": [],
   "source": [
    "import jax.numpy as jnp\n",
    "import numpy as np\n",
    "from jax import jit, vmap, devices, default_backend\n",
    "from tqdm import tqdm\n",
    "from timeit import timeit\n",
    "from functools import partial"
   ]
  },
  {
   "cell_type": "code",
   "execution_count": 2,
   "id": "c723efa6",
   "metadata": {},
   "outputs": [
    {
     "name": "stdout",
     "output_type": "stream",
     "text": [
      "Available devices: [CudaDevice(id=0)]\n",
      "Default backend: gpu\n"
     ]
    }
   ],
   "source": [
    "import jax\n",
    "\n",
    "# List all devices JAX can see\n",
    "available_devices = jax.devices()\n",
    "print(f\"Available devices: {available_devices}\")\n",
    "\n",
    "# Get the default device JAX will use\n",
    "default_device = jax.default_backend()\n",
    "print(f\"Default backend: {default_device}\")\n"
   ]
  },
  {
   "cell_type": "code",
   "execution_count": 3,
   "id": "6690ad15",
   "metadata": {},
   "outputs": [
    {
     "name": "stdout",
     "output_type": "stream",
     "text": [
      "TFRT_CPU_0\n",
      "cuda:0\n"
     ]
    }
   ],
   "source": [
    "cpu_device = devices('cpu')[0]\n",
    "gpu_device = devices('gpu')[0]\n",
    "print(cpu_device)\n",
    "print(gpu_device)"
   ]
  },
  {
   "cell_type": "code",
   "execution_count": null,
   "id": "801c16d5",
   "metadata": {},
   "outputs": [
    {
     "name": "stdout",
     "output_type": "stream",
     "text": [
      "[14. 28. 42.]\n",
      "<function make_jaxpr(vectorized_matrix_multiplication) at 0x727551d81da0>\n",
      "[[14. 14. 14. ... 14. 14. 14.]\n",
      " [28. 28. 28. ... 28. 28. 28.]\n",
      " [42. 42. 42. ... 42. 42. 42.]]\n"
     ]
    }
   ],
   "source": [
    "vector_a = np.arange(1, 4)\n",
    "matrix_a = np.kron(vector_a, np.arange(1, 4).reshape(3, 1))\n",
    "\n",
    "matrix_b = matrix_a + 1\n",
    "#print(matrix_a)\n",
    "#print(matrix_b)\n",
    "\n",
    "resulting_matrix = matrix_a @ matrix_b\n",
    "#print(resulting_matrix)\n",
    "\n",
    "N = 1000\n",
    "jax_vector_a = jnp.arange(1, 4).reshape(3, 1)\n",
    "jax_matrix_a = jnp.kron(vector_a, jnp.arange(1, 4)).reshape(3, 3)\n",
    "jax_matrix_b = jnp.kron(vector_a, jnp.ones(N)).reshape(vector_a.size, N)\n",
    "jax_tensor_a = jnp.broadcast_to(jax_matrix_a, (N,)+(jax_matrix_a.shape))\n",
    "#print(jnp.shape(jax_tensor_a))\n",
    "#jax_matrix_b = jnp.sum(jnp.kron(vector_a, jnp.ones(N,)).reshape(3, N), 1)\n",
    "#print(jax_matrix_b)\n",
    "\n",
    "def vectorized_matrix_multiplication(matrix_input_1, vector_input_2):\n",
    "    multiplied_result = jnp.matmul(matrix_input_1, vector_input_2)\n",
    "\n",
    "    return multiplied_result\n",
    "\n",
    "print(vectorized_matrix_multiplication(jax_tensor_a[0, :, :], jax_matrix_b[:, 0]))\n",
    "\n",
    "batched_matrix_multiplication = jit(vmap(vectorized_matrix_multiplication, in_axes=(0, 1), out_axes=1))\n",
    "\n",
    "expressions = jax.make_jaxpr(batched_matrix_multiplication)\n",
    "print(expressions)\n",
    "\n",
    "parallelized_tensor = batched_matrix_multiplication(jax_tensor_a, jax_matrix_b)\n",
    "\n",
    "normal_tensor_jit = vectorized_matrix_multiplication\n",
    "def naive_matrix_multiplication(timevector):\n",
    "    for value in range(N):\n",
    "        output = normal_tensor_jit(jax_matrix_a, jax_vector_a)\n",
    "    return output\n",
    "\n",
    "normal_tensor = naive_matrix_multiplication(N)\n",
    "\n",
    "print(parallelized_tensor)\n",
    "\n",
    "%timeit parallelized_tensor.block_until_ready()\n",
    "%timeit parallelized_tensor.block_until_ready()\n",
    "\n",
    "\n"
   ]
  },
  {
   "cell_type": "code",
   "execution_count": null,
   "id": "9d50597e",
   "metadata": {},
   "outputs": [
    {
     "name": "stdout",
     "output_type": "stream",
     "text": [
      "Default device: cuda:0\n",
      "Default backend: gpu\n"
     ]
    }
   ],
   "source": [
    "# Print the default device used for JAX computations\n",
    "default_device = devices()[0]\n",
    "print(\"Default device:\", default_device)\n",
    "\n",
    "# Print the default backend used for JAX computations\n",
    "default_backend = default_backend()\n",
    "print(\"Default backend:\", default_backend)"
   ]
  },
  {
   "cell_type": "code",
   "execution_count": null,
   "id": "9bc64b96",
   "metadata": {},
   "outputs": [],
   "source": []
  }
 ],
 "metadata": {
  "kernelspec": {
   "display_name": "datacombined",
   "language": "python",
   "name": "python3"
  },
  "language_info": {
   "codemirror_mode": {
    "name": "ipython",
    "version": 3
   },
   "file_extension": ".py",
   "mimetype": "text/x-python",
   "name": "python",
   "nbconvert_exporter": "python",
   "pygments_lexer": "ipython3",
   "version": "3.12.0"
  }
 },
 "nbformat": 4,
 "nbformat_minor": 5
}
